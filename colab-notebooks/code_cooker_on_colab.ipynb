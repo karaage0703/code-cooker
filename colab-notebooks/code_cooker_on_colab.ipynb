{
  "cells": [
    {
      "cell_type": "markdown",
      "metadata": {
        "id": "view-in-github",
        "colab_type": "text"
      },
      "source": [
        "<a href=\"https://colab.research.google.com/github/karaage0703/code-cooker/blob/main/colab-notebooks/code_cooker_on_colab.ipynb\" target=\"_parent\"><img src=\"https://colab.research.google.com/assets/colab-badge.svg\" alt=\"Open In Colab\"/></a>"
      ]
    },
    {
      "cell_type": "markdown",
      "metadata": {
        "id": "4GpLLxVccgsl"
      },
      "source": [
        "# Code Cooker\n",
        "\n",
        "LLMに面倒なことをやらせるノートブックです。\n"
      ]
    },
    {
      "cell_type": "markdown",
      "source": [
        "## Setup"
      ],
      "metadata": {
        "id": "WvJad_iU7NE9"
      }
    },
    {
      "cell_type": "markdown",
      "metadata": {
        "id": "KJUYop_25reV"
      },
      "source": [
        "Install library"
      ]
    },
    {
      "cell_type": "code",
      "source": [
        "!pip -qqq install anthropic==0.25.7\n",
        "!pip -qqq install openai==1.29.0\n",
        "!pip -qqq install google-generativeai==0.5.4\n",
        "!pip -qqq install gradio==4.31.1\n",
        "!pip -qqq install japanize-matplotlib\n",
        "!pip -qqq install qrcode"
      ],
      "metadata": {
        "id": "6a_8KPaD5gd3"
      },
      "execution_count": null,
      "outputs": []
    },
    {
      "cell_type": "markdown",
      "source": [
        "## Download and launch software"
      ],
      "metadata": {
        "id": "1-DdxkvS5CHJ"
      }
    },
    {
      "cell_type": "markdown",
      "source": [
        "Download and update software"
      ],
      "metadata": {
        "id": "0kmhWR6P9VMO"
      }
    },
    {
      "cell_type": "code",
      "source": [
        "!git clone https://github.com/karaage0703/code-cooker\n",
        "%cd code-cooker\n",
        "!sed -i 's/iface\\.launch(server_name=\"0.0.0.0\")/iface.launch(share=True, inbrowser=True)/' app.py"
      ],
      "metadata": {
        "id": "jZ16NusJ5BOL"
      },
      "execution_count": null,
      "outputs": []
    },
    {
      "cell_type": "markdown",
      "source": [
        "Edit API key"
      ],
      "metadata": {
        "id": "ns6ErpId-HBB"
      }
    },
    {
      "cell_type": "code",
      "source": [
        "%%bash\n",
        "cat <<EOF > cooker/.config\n",
        "[claude_api_key]\n",
        "key = sk-xxx\n",
        "\n",
        "[openai_api_key]\n",
        "key = sk-xxx\n",
        "\n",
        "[gemini_api_key]\n",
        "key = xxx\n",
        "EOF"
      ],
      "metadata": {
        "id": "AYjZ3haT7ZJv"
      },
      "execution_count": null,
      "outputs": []
    },
    {
      "cell_type": "code",
      "source": [
        "!cat cooker/.config"
      ],
      "metadata": {
        "id": "dO8EeIZW71q_"
      },
      "execution_count": null,
      "outputs": []
    },
    {
      "cell_type": "markdown",
      "source": [
        "Launch app"
      ],
      "metadata": {
        "id": "WtbGHRIt5-Wo"
      }
    },
    {
      "cell_type": "code",
      "source": [
        "!python3 app.py"
      ],
      "metadata": {
        "id": "sn2w8NpQ550h"
      },
      "execution_count": null,
      "outputs": []
    },
    {
      "cell_type": "markdown",
      "source": [
        "## Reference:"
      ],
      "metadata": {
        "id": "htHvpjqWGh9k"
      }
    }
  ],
  "metadata": {
    "accelerator": "GPU",
    "colab": {
      "gpuType": "L4",
      "machine_shape": "hm",
      "provenance": [],
      "authorship_tag": "ABX9TyMLpJcWyigEZQYiIKzq5Pux",
      "include_colab_link": true
    },
    "kernelspec": {
      "display_name": "Python 3",
      "name": "python3"
    },
    "language_info": {
      "name": "python"
    }
  },
  "nbformat": 4,
  "nbformat_minor": 0
}