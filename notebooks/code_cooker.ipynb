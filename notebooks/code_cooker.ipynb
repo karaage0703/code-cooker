{
  "cells": [
    {
      "cell_type": "markdown",
      "metadata": {
        "id": "4GpLLxVccgsl"
      },
      "source": [
        "# Code Cooker\n",
        "Simple data analysis notebook on google colab like Advanced Data Analysis(Code Interpreter).\n",
        "\n",
        "Reference: [claude_manim.ipynb](https://colab.research.google.com/github/wmoto-ai/claude-manim-notebook/blob/main/claude_manim.ipynb#scrollTo=mF8X8Q3LyZc9)"
      ]
    },
    {
      "cell_type": "markdown",
      "metadata": {
        "id": "KJUYop_25reV"
      },
      "source": [
        "Install packages"
      ]
    },
    {
      "cell_type": "code",
      "execution_count": null,
      "metadata": {},
      "outputs": [],
      "source": [
        "%cd /root/notebooks"
      ]
    },
    {
      "cell_type": "code",
      "execution_count": null,
      "metadata": {},
      "outputs": [],
      "source": [
        "import configparser\n",
        "\n",
        "config = configparser.ConfigParser()\n",
        "config.read('.config')\n",
        "\n",
        "CLAUDE_API_KEY = config.get('claude_api_key', 'key')"
      ]
    },
    {
      "cell_type": "markdown",
      "metadata": {
        "id": "8VsxW-6H8D2M"
      },
      "source": [
        "Import libraries and setup api"
      ]
    },
    {
      "cell_type": "code",
      "execution_count": null,
      "metadata": {
        "id": "aVczXElEdaVa"
      },
      "outputs": [],
      "source": [
        "import anthropic\n",
        "import random\n",
        "import time\n",
        "from IPython.core.magic import register_cell_magic\n",
        "\n",
        "client = anthropic.Anthropic(api_key=CLAUDE_API_KEY)"
      ]
    },
    {
      "cell_type": "code",
      "execution_count": null,
      "metadata": {},
      "outputs": [],
      "source": [
        "import matplotlib.pyplot as plt\n",
        "import japanize_matplotlib"
      ]
    },
    {
      "cell_type": "markdown",
      "metadata": {
        "id": "pFfvnNupCKoJ"
      },
      "source": [
        "Define function"
      ]
    },
    {
      "cell_type": "code",
      "execution_count": null,
      "metadata": {
        "id": "wcgU0Dfe_F7l"
      },
      "outputs": [],
      "source": [
        "MAX_RETRAY_COUNT = 3\n",
        "\n",
        "@register_cell_magic\n",
        "def _(line, cell):\n",
        "    system_prompt = f\"\"\"あなたはJupyterNotebookを使うPythonデータサイエンティストです。\n",
        "    入力された指示をもとに、データ分析を実施してください。\n",
        "    回答には、1つのPythonコードブロック（マジックコマンド、クラス定義、コンストラクタを含む）のみを含め```pythonで囲ってください。\n",
        "    限界を超えてがんばってください。うまくいったらチップあげます。\n",
        "    \"\"\"\n",
        "\n",
        "    user_prompt = cell\n",
        "    filename = line\n",
        "\n",
        "    if filename != \"\":\n",
        "        system_prompt += f\"\"\"\n",
        "        # 入力データ:ファイルパス\n",
        "        {filename}\n",
        "        なお、データはUTF-8で読み込んでください。\n",
        "        \"\"\"\n",
        "\n",
        "    messages = [\n",
        "        {\"role\": \"user\", \"content\": user_prompt}\n",
        "    ]\n",
        "\n",
        "    prompt_w_history.extend(messages)\n",
        "\n",
        "    retry_count = 0\n",
        "    while retry_count < MAX_RETRAY_COUNT:\n",
        "        try:\n",
        "            response = client.messages.create(\n",
        "                max_tokens=2048,\n",
        "                messages=prompt_w_history,\n",
        "                model=\"claude-3-opus-20240229\",\n",
        "                system=system_prompt\n",
        "            )\n",
        "        except Exception as e:\n",
        "            print(e)\n",
        "            time.sleep(3)\n",
        "            continue\n",
        "\n",
        "        assistant_response = response.content[0].text\n",
        "\n",
        "        print(\"APIからの応答:\", assistant_response)\n",
        "\n",
        "        python = \"\"\n",
        "        if \"```python\" in assistant_response and \"```\" in assistant_response:\n",
        "            python = assistant_response.split(\"```python\")[1].split(\"```\")[0]\n",
        "\n",
        "        print(\"抽出されたPythonコード:\", python)\n",
        "\n",
        "        try:\n",
        "            exec(python)\n",
        "            prompt_w_history.append({\"role\": \"assistant\", \"content\": str(assistant_response)})\n",
        "            break\n",
        "        except Exception as e:\n",
        "            print(f\"エラーが発生しました: {e}\")\n",
        "            prompt_w_history.append({\"role\": \"assistant\", \"content\": str(assistant_response)})\n",
        "            retry_count += 1\n",
        "            if retry_count < MAX_RETRAY_COUNT:\n",
        "                prompt_w_history.append({\"role\": \"user\", \"content\": f\"エラーが発生しました。エラーメッセージ: {e}\\nコードを修正して再度実行してください。\"})\n",
        "\n",
        "    print(\"コードの実行が完了しました。\" if retry_count < MAX_RETRAY_COUNT else \"コードの修正に失敗しました。再実行回数が上限に達しました。\")"
      ]
    },
    {
      "cell_type": "markdown",
      "metadata": {
        "id": "Xsq41P6Z_wqY"
      },
      "source": [
        "Initialize prompt"
      ]
    },
    {
      "cell_type": "code",
      "execution_count": null,
      "metadata": {
        "id": "VEdJlSE2_vHe"
      },
      "outputs": [],
      "source": [
        "prompt_w_history = []"
      ]
    },
    {
      "cell_type": "markdown",
      "metadata": {
        "id": "YLVHtv31CUBv"
      },
      "source": [
        "Execute"
      ]
    },
    {
      "cell_type": "code",
      "execution_count": null,
      "metadata": {
        "id": "nTHvqL3beNku"
      },
      "outputs": [],
      "source": [
        "%%_\n",
        "kaggleのtitanicを分析してください"
      ]
    },
    {
      "cell_type": "code",
      "execution_count": null,
      "metadata": {
        "id": "pA2PisCrDWoi"
      },
      "outputs": [],
      "source": [
        "%%_ train.csv\n",
        "kaggleのtitanicを分析してください。対象のデータはtrain.csvです。"
      ]
    },
    {
      "cell_type": "code",
      "execution_count": null,
      "metadata": {},
      "outputs": [],
      "source": [
        "%%_\n",
        "可視化してください。"
      ]
    },
    {
      "cell_type": "code",
      "execution_count": null,
      "metadata": {},
      "outputs": [],
      "source": [
        "%%_\n",
        "架空の国の地域ごとの人口比率のデータを可視化してください。日本語でお願いします。"
      ]
    }
  ],
  "metadata": {
    "colab": {
      "authorship_tag": "ABX9TyPLzkBkR/calee/T8cKddoY",
      "include_colab_link": true,
      "provenance": []
    },
    "kernelspec": {
      "display_name": "Python 3",
      "name": "python3"
    },
    "language_info": {
      "codemirror_mode": {
        "name": "ipython",
        "version": 3
      },
      "file_extension": ".py",
      "mimetype": "text/x-python",
      "name": "python",
      "nbconvert_exporter": "python",
      "pygments_lexer": "ipython3",
      "version": "3.10.12"
    }
  },
  "nbformat": 4,
  "nbformat_minor": 0
}
